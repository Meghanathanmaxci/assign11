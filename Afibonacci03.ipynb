{
 "cells": [
  {
   "cell_type": "markdown",
   "id": "0d615929",
   "metadata": {},
   "source": [
    "# WPP to get the fibonacci series between 0 to 50\n",
    " # Expected output = 1 1 2 3 5 8 13 21 34 55"
   ]
  },
  {
   "cell_type": "code",
   "execution_count": 1,
   "id": "52aaa81b",
   "metadata": {},
   "outputs": [
    {
     "name": "stdout",
     "output_type": "stream",
     "text": [
      "Enter the value = 10\n",
      "1\n",
      "1\n",
      "2\n",
      "3\n",
      "5\n",
      "8\n",
      "13\n",
      "21\n",
      "34\n",
      "55\n"
     ]
    }
   ],
   "source": [
    "t = int(input('Enter the value = '))\n",
    "a= 0\n",
    "b = 1\n",
    "print(b)\n",
    "for i in range(0,9):\n",
    "    c = a+b\n",
    "    a = b\n",
    "    b = c\n",
    "    print(c)"
   ]
  },
  {
   "cell_type": "code",
   "execution_count": null,
   "id": "97ee7b74",
   "metadata": {},
   "outputs": [],
   "source": []
  }
 ],
 "metadata": {
  "kernelspec": {
   "display_name": "Python 3 (ipykernel)",
   "language": "python",
   "name": "python3"
  },
  "language_info": {
   "codemirror_mode": {
    "name": "ipython",
    "version": 3
   },
   "file_extension": ".py",
   "mimetype": "text/x-python",
   "name": "python",
   "nbconvert_exporter": "python",
   "pygments_lexer": "ipython3",
   "version": "3.10.0"
  }
 },
 "nbformat": 4,
 "nbformat_minor": 5
}
